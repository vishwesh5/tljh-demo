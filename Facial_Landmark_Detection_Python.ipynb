{
 "cells": [
  {
   "cell_type": "code",
   "execution_count": 1,
   "metadata": {},
   "outputs": [],
   "source": [
    "import cv2\n",
    "import dlib\n",
    "import numpy as np"
   ]
  },
  {
   "cell_type": "code",
   "execution_count": 2,
   "metadata": {},
   "outputs": [],
   "source": [
    "def writeLandmarksToFile(landmarks, landmarksFileName):\n",
    "  with open(landmarksFileName, 'w') as f:\n",
    "    for p in landmarks.parts():\n",
    "      f.write(\"%s %s\\n\" %(int(p.x),int(p.y)))\n",
    "\n",
    "  f.close()"
   ]
  },
  {
   "cell_type": "code",
   "execution_count": 3,
   "metadata": {},
   "outputs": [],
   "source": [
    "def drawLandmarks(im, landmarks):\n",
    "  for i, part in enumerate(landmarks.parts()):\n",
    "    px = int(part.x)\n",
    "    py = int(part.y)\n",
    "    cv2.circle(im, (px, py), 1, (0, 0, 255), thickness=2, lineType=cv2.LINE_AA)\n",
    "    cv2.putText(im, str(i+1), (px, py), cv2.FONT_HERSHEY_SIMPLEX, .3, (255, 0, 0), 1)"
   ]
  },
  {
   "cell_type": "code",
   "execution_count": 4,
   "metadata": {},
   "outputs": [
    {
     "name": "stdout",
     "output_type": "stream",
     "text": [
      "--2019-01-11 13:59:58--  https://www.dropbox.com/s/7ty70jdldvqioct/shape_predictor_68_face_landmarks.dat?dl=1\n",
      "Resolving www.dropbox.com (www.dropbox.com)... 162.125.1.1, 2620:100:6016:1::a27d:101\n",
      "Connecting to www.dropbox.com (www.dropbox.com)|162.125.1.1|:443... connected.\n",
      "HTTP request sent, awaiting response... 301 Moved Permanently\n",
      "Location: /s/dl/7ty70jdldvqioct/shape_predictor_68_face_landmarks.dat [following]\n",
      "--2019-01-11 13:59:58--  https://www.dropbox.com/s/dl/7ty70jdldvqioct/shape_predictor_68_face_landmarks.dat\n",
      "Reusing existing connection to www.dropbox.com:443.\n",
      "HTTP request sent, awaiting response... 302 Found\n",
      "Location: https://uc553d2bf3f4f9bd5e492d01124c.dl.dropboxusercontent.com/cd/0/get/AZPL1eN5aIou-IvhwdNLpXyzgj1Oo8JesKRQVg0LEWhA0PkeLLSw3RRsOOogfZqF8d-PFDwMi9UP0XcFZfMfjKEpTuIuZcZoc4hWQ3GYOV_mHk31_TE67lHM13r7C-2Gq9-nim3gEpD5HEv4BprFI4F2vHx2rMhvg92waPBB1TJo1gh4puvT3PRGO8MRBv3V6R0/file?dl=1 [following]\n",
      "--2019-01-11 13:59:59--  https://uc553d2bf3f4f9bd5e492d01124c.dl.dropboxusercontent.com/cd/0/get/AZPL1eN5aIou-IvhwdNLpXyzgj1Oo8JesKRQVg0LEWhA0PkeLLSw3RRsOOogfZqF8d-PFDwMi9UP0XcFZfMfjKEpTuIuZcZoc4hWQ3GYOV_mHk31_TE67lHM13r7C-2Gq9-nim3gEpD5HEv4BprFI4F2vHx2rMhvg92waPBB1TJo1gh4puvT3PRGO8MRBv3V6R0/file?dl=1\n",
      "Resolving uc553d2bf3f4f9bd5e492d01124c.dl.dropboxusercontent.com (uc553d2bf3f4f9bd5e492d01124c.dl.dropboxusercontent.com)... 162.125.1.6, 2620:100:6016:6::a27d:106\n",
      "Connecting to uc553d2bf3f4f9bd5e492d01124c.dl.dropboxusercontent.com (uc553d2bf3f4f9bd5e492d01124c.dl.dropboxusercontent.com)|162.125.1.6|:443... connected.\n",
      "HTTP request sent, awaiting response... 200 OK\n",
      "Length: 99693937 (95M) [application/binary]\n",
      "Saving to: ‘shape_predictor_68_face_landmarks.dat’\n",
      "\n",
      "shape_predictor_68_ 100%[===================>]  95.08M  44.2MB/s    in 2.2s    \n",
      "\n",
      "2019-01-11 14:00:01 (44.2 MB/s) - ‘shape_predictor_68_face_landmarks.dat’ saved [99693937/99693937]\n",
      "\n"
     ]
    }
   ],
   "source": [
    "!wget https://www.dropbox.com/s/7ty70jdldvqioct/shape_predictor_68_face_landmarks.dat?dl=1 -O shape_predictor_68_face_landmarks.dat"
   ]
  },
  {
   "cell_type": "code",
   "execution_count": 5,
   "metadata": {},
   "outputs": [],
   "source": [
    "# Landmark model location\n",
    "PREDICTOR_PATH = \"shape_predictor_68_face_landmarks.dat\""
   ]
  },
  {
   "cell_type": "code",
   "execution_count": 6,
   "metadata": {},
   "outputs": [],
   "source": [
    "# Get the face detector\n",
    "faceDetector = dlib.get_frontal_face_detector()"
   ]
  },
  {
   "cell_type": "code",
   "execution_count": 7,
   "metadata": {},
   "outputs": [],
   "source": [
    "# The landmark detector is implemented in the shape_predictor class\n",
    "landmarkDetector = dlib.shape_predictor(PREDICTOR_PATH)"
   ]
  },
  {
   "cell_type": "code",
   "execution_count": 8,
   "metadata": {},
   "outputs": [],
   "source": [
    "# Read image\n",
    "imageFilename = \"/srv/data/shared_files/images/girl.jpg\"\n",
    "im = cv2.imread(imageFilename)\n",
    "# landmarks will be stored in results/family_i.txt\n",
    "landmarksBasename = \"output\""
   ]
  },
  {
   "cell_type": "code",
   "execution_count": 9,
   "metadata": {},
   "outputs": [
    {
     "name": "stdout",
     "output_type": "stream",
     "text": [
      "Number of faces detected:  1\n"
     ]
    }
   ],
   "source": [
    "# Detect faces in the image\n",
    "faceRects = faceDetector(im, 0)\n",
    "print(\"Number of faces detected: \",len(faceRects))"
   ]
  },
  {
   "cell_type": "code",
   "execution_count": 10,
   "metadata": {},
   "outputs": [],
   "source": [
    "# List to store landmarks of all detected faces\n",
    "landmarksAll = []"
   ]
  },
  {
   "cell_type": "code",
   "execution_count": 11,
   "metadata": {},
   "outputs": [
    {
     "name": "stdout",
     "output_type": "stream",
     "text": [
      "Number of landmarks 68\n",
      "Saving landmarks to output_0.txt\n"
     ]
    }
   ],
   "source": [
    "# Loop over all detected face rectangles\n",
    "for i in range(0, len(faceRects)):\n",
    "  newRect = dlib.rectangle(int(faceRects[i].left()),int(faceRects[i].top()),\n",
    "      int(faceRects[i].right()),int(faceRects[i].bottom()))\n",
    "\n",
    "  # For every face rectangle, run landmarkDetector\n",
    "  landmarks = landmarkDetector(im, newRect)\n",
    "  # Print number of landmarks\n",
    "  if i==0:\n",
    "    print(\"Number of landmarks\",len(landmarks.parts()))\n",
    "\n",
    "  # Store landmarks for current face\n",
    "  landmarksAll.append(landmarks)\n",
    "  # Draw landmarks on face\n",
    "  drawLandmarks(im, landmarks)\n",
    "\n",
    "  landmarksFileName = landmarksBasename +\"_\"+ str(i)+ \".txt\"\n",
    "  print(\"Saving landmarks to\", landmarksFileName)\n",
    "  # Write landmarks to disk\n",
    "  writeLandmarksToFile(landmarks, landmarksFileName)"
   ]
  },
  {
   "cell_type": "code",
   "execution_count": 12,
   "metadata": {},
   "outputs": [
    {
     "name": "stdout",
     "output_type": "stream",
     "text": [
      "Saving output image to result_Landmarks.jpg\n"
     ]
    },
    {
     "data": {
      "text/plain": [
       "True"
      ]
     },
     "execution_count": 12,
     "metadata": {},
     "output_type": "execute_result"
    }
   ],
   "source": [
    "outputFileName = \"result_Landmarks.jpg\"\n",
    "print(\"Saving output image to\", outputFileName)\n",
    "cv2.imwrite(outputFileName, im)"
   ]
  },
  {
   "cell_type": "code",
   "execution_count": null,
   "metadata": {},
   "outputs": [],
   "source": []
  },
  {
   "cell_type": "code",
   "execution_count": null,
   "metadata": {},
   "outputs": [],
   "source": []
  }
 ],
 "metadata": {
  "kernelspec": {
   "display_name": "Python 3",
   "language": "python",
   "name": "python3"
  },
  "language_info": {
   "codemirror_mode": {
    "name": "ipython",
    "version": 3
   },
   "file_extension": ".py",
   "mimetype": "text/x-python",
   "name": "python",
   "nbconvert_exporter": "python",
   "pygments_lexer": "ipython3",
   "version": "3.6.5"
  }
 },
 "nbformat": 4,
 "nbformat_minor": 2
}
